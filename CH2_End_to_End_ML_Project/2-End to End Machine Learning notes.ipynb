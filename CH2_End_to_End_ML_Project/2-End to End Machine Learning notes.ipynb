{
 "cells": [
  {
   "cell_type": "markdown",
   "metadata": {},
   "source": [
    "# <strong>End-to-End ML Project</strong>\n",
    "\n",
    "There are 8 main steps for a ML project, also called the `ML checklist` in this book:\n",
    "\n",
    "<ol>\n",
    "  <li>Look at the big picture</li>\n",
    "  \n",
    "  <br>\n",
    "  <li>Get the data</li><br>\n",
    "  <li>Explore and visualize the data to gain insights</li><br>\n",
    "  <li>Prepare the data for the ML algorithms</li><br>\n",
    "  <li>Select a model and train it</li><br>\n",
    "  <li>Fine-tune your model</li><br>\n",
    "  <li>Present your solution</li><br>\n",
    "  <li>Launch, monitor and maintain the system</li><br>\n",
    "</ol>\n",
    "\n",
    "Here we will analyze house prices in California in 1990. The data reflect block groups or districts (also called district, they are zones with 600 to 3000 people).\n",
    "\n",
    "The goal is that the model predicts the median housing price in any district, given all the other metrics or features in the data set (`\"housing.csv\"`)\n",
    "\n"
   ]
  },
  {
   "cell_type": "code",
   "execution_count": null,
   "metadata": {},
   "outputs": [],
   "source": [
    "import pandas as pd\n",
    "import numpy as np\n",
    "\n"
   ]
  }
 ],
 "metadata": {
  "kernelspec": {
   "display_name": "base",
   "language": "python",
   "name": "python3"
  },
  "language_info": {
   "name": "python",
   "version": "3.11.5"
  }
 },
 "nbformat": 4,
 "nbformat_minor": 2
}
